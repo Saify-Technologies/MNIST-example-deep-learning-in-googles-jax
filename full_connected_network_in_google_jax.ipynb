{
  "nbformat": 4,
  "nbformat_minor": 0,
  "metadata": {
    "colab": {
      "name": "full_connected_network_in_google_jax.ipynb",
      "provenance": [],
      "collapsed_sections": [],
      "authorship_tag": "ABX9TyNEa6NjHgU5mz+vLzTaJRqs",
      "include_colab_link": true
    },
    "kernelspec": {
      "name": "python3",
      "display_name": "Python 3"
    },
    "language_info": {
      "name": "python"
    },
    "accelerator": "GPU",
    "gpuClass": "standard"
  },
  "cells": [
    {
      "cell_type": "markdown",
      "metadata": {
        "id": "view-in-github",
        "colab_type": "text"
      },
      "source": [
        "<a href=\"https://colab.research.google.com/github/Saify-Technologies/MNIST-example-deep-learning-in-googles-jax/blob/main/full_connected_network_in_google_jax.ipynb\" target=\"_parent\"><img src=\"https://colab.research.google.com/assets/colab-badge.svg\" alt=\"Open In Colab\"/></a>"
      ]
    },
    {
      "cell_type": "code",
      "execution_count": null,
      "metadata": {
        "id": "DjUcMjOyjr9W"
      },
      "outputs": [],
      "source": [
        "from pathlib import Path\n",
        "from IPython.core.debugger import set_trace\n",
        "\n",
        "import pickle, gzip, math, torch, matplotlib as mpl\n",
        "import matplotlib.pyplot as plt\n",
        "from fastai.vision import * \n",
        "from fastai.data.all import *\n",
        "import jax.numpy as jnp\n",
        "from jax import grad, jit, vmap\n",
        "from jax import random\n",
        "from PIL import Image\n",
        "from numpy import asarray\n",
        "\n",
        "\n",
        "MNIST_URL='http://deeplearning.net/data/mnist/mnist.pkl'"
      ]
    },
    {
      "cell_type": "code",
      "source": [
        "from PIL import Image\n",
        "from numpy import asarray\n",
        "def get_data(validation_per):\n",
        "    path = untar_data(URLs.MNIST);\n",
        "    #creating List\n",
        "    x_train_ls=[]\n",
        "    y_train_ls = []\n",
        "    for i in range(0,10):\n",
        "      x_ls ,y_ls = [asarray(Image.open(f)) for f in (path/\"training\"/str(i)).ls()] ,[ i for f in (path/\"training\"/str(i)).ls()]\n",
        "      y_train_ls.extend(y_ls)\n",
        "      x_train_ls.extend(x_ls)\n",
        "\n",
        "    #converting list to numpy\n",
        "    train_x ,train_y = np.array(x_train_ls) , np.array(y_train_ls)\n",
        "    \n",
        "    #randomly shuffling data in th numpy\n",
        "    seed = np.random.randint(0, 10000)\n",
        "    np.random.seed(seed)\n",
        "    np.random.shuffle(train_x)\n",
        "    np.random.seed(seed)\n",
        "    np.random.shuffle(train_y)\n",
        "\n",
        "    #dividing validation and training \n",
        "    training_set= int(train_x.shape[0] * (1-(validation_per/100)))\n",
        "    training_x,training_y,validation_x,validation_y = train_x[:training_set],train_y[:training_set],train_x[training_set:],train_y[training_set:]\n",
        "\n",
        "    return map(jnp.array, (training_x,training_y,validation_x,validation_y))\n"
      ],
      "metadata": {
        "id": "lOSJsU4ZkZlQ"
      },
      "execution_count": null,
      "outputs": []
    },
    {
      "cell_type": "code",
      "source": [
        "x_train , y_train , x_valid,y_valid = get_data(20)"
      ],
      "metadata": {
        "colab": {
          "base_uri": "https://localhost:8080/",
          "height": 37
        },
        "id": "6Gr4ppO4kn3p",
        "outputId": "6268b9e6-db89-4fe7-884e-090cb599f947"
      },
      "execution_count": null,
      "outputs": [
        {
          "output_type": "display_data",
          "data": {
            "text/plain": [
              "<IPython.core.display.HTML object>"
            ],
            "text/html": [
              "\n",
              "<style>\n",
              "    /* Turns off some styling */\n",
              "    progress {\n",
              "        /* gets rid of default border in Firefox and Opera. */\n",
              "        border: none;\n",
              "        /* Needs to be in here for Safari polyfill so background images work as expected. */\n",
              "        background-size: auto;\n",
              "    }\n",
              "    .progress-bar-interrupted, .progress-bar-interrupted::-webkit-progress-bar {\n",
              "        background: #F44336;\n",
              "    }\n",
              "</style>\n"
            ]
          },
          "metadata": {}
        },
        {
          "output_type": "display_data",
          "data": {
            "text/plain": [
              "<IPython.core.display.HTML object>"
            ],
            "text/html": [
              "\n",
              "    <div>\n",
              "      <progress value='15687680' class='' max='15683414' style='width:300px; height:20px; vertical-align: middle;'></progress>\n",
              "      100.03% [15687680/15683414 00:00<00:00]\n",
              "    </div>\n",
              "    "
            ]
          },
          "metadata": {}
        }
      ]
    },
    {
      "cell_type": "code",
      "source": [
        "def normalize(x, m, s): return (x-m)/s"
      ],
      "metadata": {
        "id": "0ARmu5T6oHj_"
      },
      "execution_count": null,
      "outputs": []
    },
    {
      "cell_type": "code",
      "source": [
        "train_mean,train_std = x_train.mean(),x_train.std()\n",
        "train_mean,train_std"
      ],
      "metadata": {
        "colab": {
          "base_uri": "https://localhost:8080/"
        },
        "id": "lW3UpamU2xL4",
        "outputId": "7e0d9992-abaa-4b51-a029-8ff5cbc6363a"
      },
      "execution_count": null,
      "outputs": [
        {
          "output_type": "execute_result",
          "data": {
            "text/plain": [
              "(DeviceArray(33.300873, dtype=float32), DeviceArray(78.545265, dtype=float32))"
            ]
          },
          "metadata": {},
          "execution_count": 6
        }
      ]
    },
    {
      "cell_type": "code",
      "source": [
        "x_train = normalize(x_train, train_mean, train_std)\n",
        "# NB: Use training, not validation mean for validation set\n",
        "x_valid = normalize(x_valid, train_mean, train_std)"
      ],
      "metadata": {
        "id": "4GFbV7kHodK6"
      },
      "execution_count": null,
      "outputs": []
    },
    {
      "cell_type": "code",
      "source": [
        "import numpy as np\n",
        "x_train = x_train.reshape(x_train.shape[0], x_train.shape[1]*x_train.shape[2]) #flatten rows to make it 784 last two columns are merged\n",
        "x_valid =  x_valid.reshape(x_valid.shape[0], x_valid.shape[1]*x_valid.shape[2])\n",
        "x_train.shape, x_valid.shape"
      ],
      "metadata": {
        "colab": {
          "base_uri": "https://localhost:8080/"
        },
        "id": "Js4-wkMZoyAl",
        "outputId": "e550fd43-de0a-4cc8-a877-42abb0af0e83"
      },
      "execution_count": null,
      "outputs": [
        {
          "output_type": "execute_result",
          "data": {
            "text/plain": [
              "((48000, 784), (12000, 784))"
            ]
          },
          "metadata": {},
          "execution_count": 8
        }
      ]
    },
    {
      "cell_type": "code",
      "source": [
        "n,m = x_train.shape\n",
        "c = y_train.max()+1\n",
        "n,m,c"
      ],
      "metadata": {
        "colab": {
          "base_uri": "https://localhost:8080/"
        },
        "id": "jhbpT5IypMOE",
        "outputId": "518c8216-db52-4d4a-e4de-24969e040483"
      },
      "execution_count": null,
      "outputs": [
        {
          "output_type": "execute_result",
          "data": {
            "text/plain": [
              "(48000, 784, DeviceArray(10, dtype=int32))"
            ]
          },
          "metadata": {},
          "execution_count": 9
        }
      ]
    },
    {
      "cell_type": "code",
      "source": [
        "def test_near_zero(a,tol=1e-3): assert a.abs()<tol, f\"Near zero: {a}\""
      ],
      "metadata": {
        "id": "015io2ncrTCV"
      },
      "execution_count": null,
      "outputs": []
    },
    {
      "cell_type": "code",
      "source": [
        "#xavier initialization\n",
        "nh = 50 #number of hidden units will be 50\n",
        "seed=1\n",
        "key = random.PRNGKey(seed)\n",
        "w1 = random.normal(key=key,shape=(m,nh)) / math.sqrt(m)\n",
        "b1 = jnp.zeros(nh)\n",
        "w2 = random.normal(key=key,shape=(nh ,1)) / math.sqrt(nh)\n",
        "b2 = jnp.ones(1)"
      ],
      "metadata": {
        "id": "geESyjRpreIX"
      },
      "execution_count": null,
      "outputs": []
    },
    {
      "cell_type": "code",
      "source": [
        "def lin(x,w,b):\n",
        "  return x@w + b"
      ],
      "metadata": {
        "id": "N13nn3VP1nM0"
      },
      "execution_count": null,
      "outputs": []
    },
    {
      "cell_type": "code",
      "source": [
        "def relu(x):\n",
        "    return jnp.maximum(0.,x)"
      ],
      "metadata": {
        "id": "tAKlBmDI1ycN"
      },
      "execution_count": null,
      "outputs": []
    },
    {
      "cell_type": "code",
      "source": [
        "nh = 50 #number of hidden units will be 50\n",
        "seed=1\n",
        "key = random.PRNGKey(seed)\n",
        "w1 = random.normal(key=key,shape=(m,nh)) * math.sqrt(2/m)\n",
        "b1 = jnp.zeros(nh)\n",
        "w2 = random.normal(key=key,shape=(nh ,1)) * math.sqrt(2/nh)\n",
        "b2 = jnp.ones(1)"
      ],
      "metadata": {
        "id": "KUqLvdcA17m8"
      },
      "execution_count": null,
      "outputs": []
    },
    {
      "cell_type": "code",
      "source": [
        "def leakyrelu(x): return jnp.maximum(0.,x) - 0.5"
      ],
      "metadata": {
        "id": "t4ddQXaW3J6p"
      },
      "execution_count": null,
      "outputs": []
    },
    {
      "cell_type": "code",
      "source": [
        "t = leakyrelu(lin(x_valid,w1,b1)) #this layer should have mean and variance 0 and 1 respectively which is there with leaky relu\n",
        "t.mean() , t.std()"
      ],
      "metadata": {
        "colab": {
          "base_uri": "https://localhost:8080/"
        },
        "id": "Uk4o5EHg3NS0",
        "outputId": "2a9e1a1a-faad-48b5-e98d-f6b4ba857ddc"
      },
      "execution_count": null,
      "outputs": [
        {
          "output_type": "execute_result",
          "data": {
            "text/plain": [
              "(DeviceArray(-0.03897044, dtype=float32),\n",
              " DeviceArray(0.7305525, dtype=float32))"
            ]
          },
          "metadata": {},
          "execution_count": 16
        }
      ]
    },
    {
      "cell_type": "code",
      "source": [
        "def model(xb,w1,w2,b1,b2) :\n",
        "  l1=lin(xb,w1,b1)\n",
        "  l2=leakyrelu(l1)\n",
        "  l3=lin(l2,w2,b2)\n",
        "  return l3"
      ],
      "metadata": {
        "id": "TmI2H0tAhoG1"
      },
      "execution_count": null,
      "outputs": []
    },
    {
      "cell_type": "code",
      "source": [
        "def mse(x,y):\n",
        "  return ((jnp.squeeze(x) - y)**2).mean()"
      ],
      "metadata": {
        "id": "jaMRt4CdhuQs"
      },
      "execution_count": null,
      "outputs": []
    },
    {
      "cell_type": "code",
      "source": [
        "mse(model(x_valid,w1,w2,b1,b2),y_valid)"
      ],
      "metadata": {
        "colab": {
          "base_uri": "https://localhost:8080/"
        },
        "id": "imgrUNZqixOq",
        "outputId": "c5e4490f-576f-40b4-8873-bc4be34dcf25"
      },
      "execution_count": null,
      "outputs": [
        {
          "output_type": "execute_result",
          "data": {
            "text/plain": [
              "DeviceArray(20.31205, dtype=float32)"
            ]
          },
          "metadata": {},
          "execution_count": 19
        }
      ]
    },
    {
      "cell_type": "code",
      "source": [
        "class Module():\n",
        "    def __call__(self, *args):\n",
        "        self.args = args\n",
        "        self.out = self.forward(*args)\n",
        "        return self.out\n",
        "    \n",
        "    def forward(self): raise Exception('not implemented')\n",
        "\n",
        "class Relu(Module):\n",
        "    def forward(self, inp): return jnp.maximum(0.,inp) - 0.5\n",
        "\n",
        "class Lin(Module):\n",
        "    def __init__(self, w, b): \n",
        "      self.w,self.b = w,b\n",
        "        \n",
        "    def forward(self, inp): return inp@self.w + self.b\n",
        "\n",
        "class Mse(Module):\n",
        "    def forward (self, inp, targ): return ((jnp.squeeze(inp) - targ)**2).mean()"
      ],
      "metadata": {
        "id": "nBBM6H1PR5sF"
      },
      "execution_count": null,
      "outputs": []
    },
    {
      "cell_type": "code",
      "source": [
        "def Model(x,targ,w1,b1,w2,b2):\n",
        "      layers = [Lin(w1,b1), Relu(), Lin(w2,b2)]\n",
        "      loss = Mse()\n",
        "      for l in layers: x = l(x)\n",
        "      return loss(x, targ)\n",
        "      \n",
        "lr = 0.001      \n",
        "\n"
      ],
      "metadata": {
        "id": "aVW9U7X7aIrv"
      },
      "execution_count": null,
      "outputs": []
    },
    {
      "cell_type": "code",
      "source": [
        "import jax\n",
        "# model = Model(w1,b1,w2,b2)"
      ],
      "metadata": {
        "id": "kyZ9X1SvasZg"
      },
      "execution_count": null,
      "outputs": []
    },
    {
      "cell_type": "code",
      "source": [
        "loss , grads = jax.value_and_grad(Model,argnums=[2,3,4,5])(x_valid,y_valid,w1,b1,w2,b2)"
      ],
      "metadata": {
        "id": "Qwk1ROzRbDdQ"
      },
      "execution_count": null,
      "outputs": []
    },
    {
      "cell_type": "code",
      "source": [
        "loss ,grads"
      ],
      "metadata": {
        "colab": {
          "base_uri": "https://localhost:8080/"
        },
        "id": "XoM_ZCaDbXtq",
        "outputId": "8696f161-07dc-43dc-e614-b3f9bdeb2753"
      },
      "execution_count": null,
      "outputs": [
        {
          "output_type": "execute_result",
          "data": {
            "text/plain": [
              "(DeviceArray(20.31205, dtype=float32),\n",
              " (DeviceArray([[-0.07417491,  0.22352615,  0.10124209, ...,  0.04201994,\n",
              "                -0.02454017,  0.16890837],\n",
              "               [-0.07417491,  0.22352615,  0.10124209, ...,  0.04201994,\n",
              "                -0.02454017,  0.16890837],\n",
              "               [-0.07417491,  0.22352615,  0.10124209, ...,  0.04201994,\n",
              "                -0.02454017,  0.16890837],\n",
              "               ...,\n",
              "               [-0.07417491,  0.22352615,  0.10124209, ...,  0.04201994,\n",
              "                -0.02454017,  0.16890837],\n",
              "               [-0.07417491,  0.22352615,  0.10124209, ...,  0.04201994,\n",
              "                -0.02454017,  0.16890837],\n",
              "               [-0.07417491,  0.22352615,  0.10124209, ...,  0.04201994,\n",
              "                -0.02454017,  0.16890837]], dtype=float32),\n",
              "  DeviceArray([ 0.17495301, -0.5272211 , -0.23879513,  0.2152882 ,\n",
              "               -0.762972  , -0.4169765 , -1.6098483 , -2.0278134 ,\n",
              "                0.15746224,  0.32992813, -0.68278205, -0.21884523,\n",
              "                0.8280484 ,  0.0088369 , -0.07505147, -1.3169811 ,\n",
              "               -0.06739365, -0.4777603 , -1.1096013 ,  1.4232749 ,\n",
              "                0.04248931, -0.06026274,  0.1491163 ,  0.9389218 ,\n",
              "               -0.00724525, -0.04844886, -0.05419964,  0.96835196,\n",
              "                0.13015345, -1.4920208 ,  0.5865675 , -1.3881048 ,\n",
              "               -0.35455182,  0.20316607, -1.1382437 ,  0.3635949 ,\n",
              "               -0.32697198,  0.0481429 ,  1.6312401 ,  0.50133646,\n",
              "                0.41683608,  0.6636262 , -0.30614105, -0.28783506,\n",
              "               -0.32234073,  0.36659524, -1.1744046 , -0.09911054,\n",
              "                0.0578818 , -0.39839655], dtype=float32),\n",
              "  DeviceArray([[ 2.815018  ],\n",
              "               [ 2.3963253 ],\n",
              "               [-0.3801205 ],\n",
              "               [-0.03301776],\n",
              "               [-2.6036596 ],\n",
              "               [-4.8899555 ],\n",
              "               [-5.6954556 ],\n",
              "               [-1.1972909 ],\n",
              "               [ 2.6843748 ],\n",
              "               [ 2.6759367 ],\n",
              "               [ 0.9074967 ],\n",
              "               [-2.133285  ],\n",
              "               [ 0.42301732],\n",
              "               [ 0.56888133],\n",
              "               [ 3.2492056 ],\n",
              "               [-3.3352778 ],\n",
              "               [ 2.982584  ],\n",
              "               [ 2.3481271 ],\n",
              "               [-2.4300184 ],\n",
              "               [-0.61531913],\n",
              "               [ 2.4071834 ],\n",
              "               [ 3.334479  ],\n",
              "               [ 2.2460282 ],\n",
              "               [-4.00153   ],\n",
              "               [ 2.7247303 ],\n",
              "               [ 1.2935709 ],\n",
              "               [ 1.4622631 ],\n",
              "               [-0.567617  ],\n",
              "               [ 0.4049962 ],\n",
              "               [-2.4245021 ],\n",
              "               [ 0.07734542],\n",
              "               [ 0.0953436 ],\n",
              "               [ 1.5516989 ],\n",
              "               [ 0.5505493 ],\n",
              "               [ 0.5846952 ],\n",
              "               [ 2.6075442 ],\n",
              "               [ 3.0055985 ],\n",
              "               [-0.6984658 ],\n",
              "               [-2.1128356 ],\n",
              "               [-1.9207714 ],\n",
              "               [-0.0411924 ],\n",
              "               [ 0.178347  ],\n",
              "               [-0.04287295],\n",
              "               [ 2.2362716 ],\n",
              "               [ 2.4251256 ],\n",
              "               [-1.5518246 ],\n",
              "               [ 0.7112056 ],\n",
              "               [ 0.6607944 ],\n",
              "               [-0.53352326],\n",
              "               [ 2.732223  ]], dtype=float32),\n",
              "  DeviceArray([-6.931117], dtype=float32)))"
            ]
          },
          "metadata": {},
          "execution_count": 24
        }
      ]
    },
    {
      "cell_type": "code",
      "source": [
        "grads"
      ],
      "metadata": {
        "colab": {
          "base_uri": "https://localhost:8080/"
        },
        "id": "4vQHCpHUgy4s",
        "outputId": "dd645e2c-5f61-4b8b-e992-1b490fd46a80"
      },
      "execution_count": null,
      "outputs": [
        {
          "output_type": "execute_result",
          "data": {
            "text/plain": [
              "(DeviceArray([[-0.07417491,  0.22352615,  0.10124209, ...,  0.04201994,\n",
              "               -0.02454017,  0.16890837],\n",
              "              [-0.07417491,  0.22352615,  0.10124209, ...,  0.04201994,\n",
              "               -0.02454017,  0.16890837],\n",
              "              [-0.07417491,  0.22352615,  0.10124209, ...,  0.04201994,\n",
              "               -0.02454017,  0.16890837],\n",
              "              ...,\n",
              "              [-0.07417491,  0.22352615,  0.10124209, ...,  0.04201994,\n",
              "               -0.02454017,  0.16890837],\n",
              "              [-0.07417491,  0.22352615,  0.10124209, ...,  0.04201994,\n",
              "               -0.02454017,  0.16890837],\n",
              "              [-0.07417491,  0.22352615,  0.10124209, ...,  0.04201994,\n",
              "               -0.02454017,  0.16890837]], dtype=float32),\n",
              " DeviceArray([ 0.17495301, -0.5272211 , -0.23879513,  0.2152882 ,\n",
              "              -0.762972  , -0.4169765 , -1.6098483 , -2.0278134 ,\n",
              "               0.15746224,  0.32992813, -0.68278205, -0.21884523,\n",
              "               0.8280484 ,  0.0088369 , -0.07505147, -1.3169811 ,\n",
              "              -0.06739365, -0.4777603 , -1.1096013 ,  1.4232749 ,\n",
              "               0.04248931, -0.06026274,  0.1491163 ,  0.9389218 ,\n",
              "              -0.00724525, -0.04844886, -0.05419964,  0.96835196,\n",
              "               0.13015345, -1.4920208 ,  0.5865675 , -1.3881048 ,\n",
              "              -0.35455182,  0.20316607, -1.1382437 ,  0.3635949 ,\n",
              "              -0.32697198,  0.0481429 ,  1.6312401 ,  0.50133646,\n",
              "               0.41683608,  0.6636262 , -0.30614105, -0.28783506,\n",
              "              -0.32234073,  0.36659524, -1.1744046 , -0.09911054,\n",
              "               0.0578818 , -0.39839655], dtype=float32),\n",
              " DeviceArray([[ 2.815018  ],\n",
              "              [ 2.3963253 ],\n",
              "              [-0.3801205 ],\n",
              "              [-0.03301776],\n",
              "              [-2.6036596 ],\n",
              "              [-4.8899555 ],\n",
              "              [-5.6954556 ],\n",
              "              [-1.1972909 ],\n",
              "              [ 2.6843748 ],\n",
              "              [ 2.6759367 ],\n",
              "              [ 0.9074967 ],\n",
              "              [-2.133285  ],\n",
              "              [ 0.42301732],\n",
              "              [ 0.56888133],\n",
              "              [ 3.2492056 ],\n",
              "              [-3.3352778 ],\n",
              "              [ 2.982584  ],\n",
              "              [ 2.3481271 ],\n",
              "              [-2.4300184 ],\n",
              "              [-0.61531913],\n",
              "              [ 2.4071834 ],\n",
              "              [ 3.334479  ],\n",
              "              [ 2.2460282 ],\n",
              "              [-4.00153   ],\n",
              "              [ 2.7247303 ],\n",
              "              [ 1.2935709 ],\n",
              "              [ 1.4622631 ],\n",
              "              [-0.567617  ],\n",
              "              [ 0.4049962 ],\n",
              "              [-2.4245021 ],\n",
              "              [ 0.07734542],\n",
              "              [ 0.0953436 ],\n",
              "              [ 1.5516989 ],\n",
              "              [ 0.5505493 ],\n",
              "              [ 0.5846952 ],\n",
              "              [ 2.6075442 ],\n",
              "              [ 3.0055985 ],\n",
              "              [-0.6984658 ],\n",
              "              [-2.1128356 ],\n",
              "              [-1.9207714 ],\n",
              "              [-0.0411924 ],\n",
              "              [ 0.178347  ],\n",
              "              [-0.04287295],\n",
              "              [ 2.2362716 ],\n",
              "              [ 2.4251256 ],\n",
              "              [-1.5518246 ],\n",
              "              [ 0.7112056 ],\n",
              "              [ 0.6607944 ],\n",
              "              [-0.53352326],\n",
              "              [ 2.732223  ]], dtype=float32),\n",
              " DeviceArray([-6.931117], dtype=float32))"
            ]
          },
          "metadata": {},
          "execution_count": 25
        }
      ]
    },
    {
      "cell_type": "code",
      "source": [
        "def nll(input,target): return -input[[i for i in range(input.shape[0])],target].mean()"
      ],
      "metadata": {
        "id": "Q-eaEs0Mg75e"
      },
      "execution_count": null,
      "outputs": []
    },
    {
      "cell_type": "code",
      "source": [
        "class NegativeLogLikelyhood(Module):\n",
        "    def forward (self, inp, targ): return -inp[[i for i in range(inp.shape[0])],targ].mean()"
      ],
      "metadata": {
        "id": "N0u_XBELEZUG"
      },
      "execution_count": null,
      "outputs": []
    },
    {
      "cell_type": "code",
      "source": [
        "def log_softmax(x):\n",
        "    return jnp.log(jnp.exp(x) / jnp.sum(jnp.exp(x)))"
      ],
      "metadata": {
        "id": "E5Yb64LZFRGO"
      },
      "execution_count": null,
      "outputs": []
    },
    {
      "cell_type": "code",
      "source": [
        "nh = 50 #number of hidden units will be 50\n",
        "seed=1\n",
        "key = random.PRNGKey(seed)\n",
        "w1 = random.normal(key=key,shape=(m,nh)) * math.sqrt(2/m)\n",
        "b1 = jnp.zeros(nh)\n",
        "w2 = random.normal(key=key,shape=(nh ,10)) * math.sqrt(2/nh)\n",
        "b2 = jnp.ones(10)\n",
        "\n",
        "def Model(x,targ,w1,b1,w2,b2):\n",
        "      layers = [Lin(w1,b1), Relu(), Lin(w2,b2)]\n",
        "      loss = NegativeLogLikelyhood()\n",
        "      for l in layers: x = l(x)\n",
        "      return loss(log_softmax(x), targ)"
      ],
      "metadata": {
        "id": "L7JWAVjVE0KV"
      },
      "execution_count": null,
      "outputs": []
    },
    {
      "cell_type": "code",
      "source": [
        "loss , grads = jax.value_and_grad(Model,argnums=[2,3,4,5])(x_valid,y_valid,w1,b1,w2,b2)"
      ],
      "metadata": {
        "id": "2A8FRPRrE72O"
      },
      "execution_count": null,
      "outputs": []
    },
    {
      "cell_type": "code",
      "source": [
        "lr=0.5\n",
        "epochs=1\n",
        "pred = model(x_train , w1,w2,b1,b2)\n",
        "totalNumerOfRows= pred.shape[0]"
      ],
      "metadata": {
        "id": "eJkwE1cXHHDj"
      },
      "execution_count": null,
      "outputs": []
    },
    {
      "cell_type": "code",
      "source": [
        "totalNumerOfRows"
      ],
      "metadata": {
        "colab": {
          "base_uri": "https://localhost:8080/"
        },
        "id": "wkhvOEapHZyN",
        "outputId": "a58b43f7-ffb2-408f-c8c9-7829a77c982b"
      },
      "execution_count": null,
      "outputs": [
        {
          "output_type": "execute_result",
          "data": {
            "text/plain": [
              "48000"
            ]
          },
          "metadata": {},
          "execution_count": 32
        }
      ]
    },
    {
      "cell_type": "code",
      "source": [
        "nh = 50 #number of hidden units will be 50\n",
        "seed=1\n",
        "bs=64\n",
        "key = random.PRNGKey(seed)\n",
        "w1 = random.normal(key=key,shape=(m,nh)) * math.sqrt(2/m)\n",
        "b1 = jnp.zeros(nh)\n",
        "w2 = random.normal(key=key,shape=(nh ,10)) * math.sqrt(2/nh)\n",
        "b2 = jnp.ones(10)\n",
        "lr=0.01\n",
        "epochs = 5\n",
        "loss , grads = jax.value_and_grad(Model,argnums=[2,3,4,5])(x_train[0:64],y_train[0:64],w1,b1,w2,b2)\n",
        "print(\"Initial Loss:-\"+loss)\n",
        "\n",
        "for epoch in range(epochs):\n",
        "  for i in range(((totalNumerOfRows-1)//bs)+1):\n",
        "    start_index=i*bs\n",
        "    end_index=(i+1)*bs\n",
        "    loss , grads = jax.value_and_grad(Model,argnums=[2,3,4,5])(x_train[start_index:end_index],y_train[start_index:end_index],w1,b1,w2,b2)\n",
        "    w1 -= lr*grads[0]\n",
        "    b1 -= lr*grads[1]\n",
        "    w2 -= lr*grads[2]\n",
        "    b2 -= lr*grads[3]\n",
        "    \n",
        "  print(loss)\n",
        "    # print(\"accuracy:\"+str(accuracy_myself(pred,y_train[start_index:end_index]))) "
      ],
      "metadata": {
        "colab": {
          "base_uri": "https://localhost:8080/"
        },
        "id": "e-ktEkq1HblO",
        "outputId": "1d3439ab-5482-4e48-95a4-d2c5121277e6"
      },
      "execution_count": null,
      "outputs": [
        {
          "output_type": "stream",
          "name": "stdout",
          "text": [
            "4.6549664\n",
            "4.5501685\n",
            "4.5036073\n",
            "4.4762754\n",
            "4.456649\n"
          ]
        }
      ]
    },
    {
      "cell_type": "code",
      "source": [
        ""
      ],
      "metadata": {
        "id": "3ONe1zlQILwb"
      },
      "execution_count": null,
      "outputs": []
    }
  ]
}